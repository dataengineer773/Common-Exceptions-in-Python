{
 "cells": [
  {
   "cell_type": "markdown",
   "id": "614c5aca",
   "metadata": {},
   "source": [
    "Common Exceptions in Python"
   ]
  },
  {
   "cell_type": "code",
   "execution_count": 7,
   "id": "ca56f611",
   "metadata": {},
   "outputs": [],
   "source": [
    "# ZeroDivisionError: This error arises when an attempt is made to divide a number by zero. Division by zero is undefined in mathematics, causing an arithmetic error. For instance:\n",
    "# For example:"
   ]
  },
  {
   "cell_type": "code",
   "execution_count": null,
   "id": "02151fef",
   "metadata": {},
   "outputs": [],
   "source": [
    "result = 10 / 0 \n",
    "print(result)\n",
    "# Raises ZeroDivisionError"
   ]
  },
  {
   "cell_type": "code",
   "execution_count": 8,
   "id": "56e6a6f1",
   "metadata": {},
   "outputs": [],
   "source": [
    "# ValueError: This error occurs when an inappropriate value is used within the code. An example of this is when trying to convert a non-numeric string to an integer:\n",
    "# For example:"
   ]
  },
  {
   "cell_type": "code",
   "execution_count": null,
   "id": "a2998ea9",
   "metadata": {},
   "outputs": [],
   "source": [
    "num = int(\"abc\")\n",
    "# Raises ValueError"
   ]
  },
  {
   "cell_type": "code",
   "execution_count": 9,
   "id": "7cee92ef",
   "metadata": {},
   "outputs": [],
   "source": [
    "# FileNotFoundError: This exception is encountered when an attempt is made to access a file that does not exist.\n",
    "# For example"
   ]
  },
  {
   "cell_type": "code",
   "execution_count": null,
   "id": "6c2697fb",
   "metadata": {},
   "outputs": [],
   "source": [
    "with open(\"nonexistent_file.txt\", \"r\") as file:\n",
    "        content = file.read()   # Raises FileNotFoundError"
   ]
  },
  {
   "cell_type": "code",
   "execution_count": 10,
   "id": "a372fd56",
   "metadata": {},
   "outputs": [],
   "source": [
    "# IndexError: An IndexError occurs when an index is used to access an element in a list that is outside the valid index range.\n",
    "# For example"
   ]
  },
  {
   "cell_type": "code",
   "execution_count": null,
   "id": "69abc290",
   "metadata": {},
   "outputs": [],
   "source": [
    "my_list = [1, 2, 3]\n",
    "value = my_list[1]  # No IndexError, within range\n",
    "missing = my_list[5]  # Raises IndexError"
   ]
  },
  {
   "cell_type": "code",
   "execution_count": 11,
   "id": "d6ef611e",
   "metadata": {},
   "outputs": [],
   "source": [
    "# KeyError: The KeyError arises when an attempt is made to access a non-existent key in a dictionary.\n",
    "# For example:"
   ]
  },
  {
   "cell_type": "code",
   "execution_count": null,
   "id": "765f66e5",
   "metadata": {},
   "outputs": [],
   "source": [
    "my_dict = {\"name\": \"Alice\", \"age\": 30}\n",
    "value = my_dict.get(\"city\")  # No KeyError, using .get() method\n",
    "missing = my_dict[\"city\"]  # Raises KeyError"
   ]
  },
  {
   "cell_type": "code",
   "execution_count": 12,
   "id": "adf117e6",
   "metadata": {},
   "outputs": [],
   "source": [
    "# TypeError: The TypeError occurs when an object is used in an incompatible manner. An example includes trying to concatenate a string and an integer:\n",
    "# For example:"
   ]
  },
  {
   "cell_type": "code",
   "execution_count": null,
   "id": "7bfef3b7",
   "metadata": {},
   "outputs": [],
   "source": [
    "result = \"hello\" + 5   \n",
    "# Raises TypeError"
   ]
  },
  {
   "cell_type": "code",
   "execution_count": 13,
   "id": "d9e4d068",
   "metadata": {},
   "outputs": [],
   "source": [
    "# AttributeError: An AttributeError occurs when an attribute or method is accessed on an object that doesn't possess that specific attribute or method. For instance:\n",
    "# For example:"
   ]
  },
  {
   "cell_type": "code",
   "execution_count": null,
   "id": "f6b034ea",
   "metadata": {},
   "outputs": [],
   "source": [
    "text = \"example\"\n",
    "length = len(text)  # No AttributeError, correct method usage\n",
    "missing = text.some_method()  # Raises AttributeError"
   ]
  },
  {
   "cell_type": "code",
   "execution_count": null,
   "id": "28d33db0",
   "metadata": {},
   "outputs": [],
   "source": [
    "# ImportError: This error is encountered when an attempt is made to import a module that is unavailable. For example: import non_existent_module\n",
    "# Note: Please remember, the exceptions you will encounter are not limited to just these. There are many more in Python. However, \n",
    "# there is no need to worry. By using the technique provided below and following the correct syntax, you will be able to handle\n",
    "# any exceptions that come your way."
   ]
  }
 ],
 "metadata": {
  "kernelspec": {
   "display_name": "Python 3 (ipykernel)",
   "language": "python",
   "name": "python3"
  },
  "language_info": {
   "codemirror_mode": {
    "name": "ipython",
    "version": 3
   },
   "file_extension": ".py",
   "mimetype": "text/x-python",
   "name": "python",
   "nbconvert_exporter": "python",
   "pygments_lexer": "ipython3",
   "version": "3.10.12"
  }
 },
 "nbformat": 4,
 "nbformat_minor": 5
}
